{
  "cells": [
    {
      "cell_type": "markdown",
      "metadata": {
        "id": "82fbYEPsOF1F"
      },
      "source": [
        "#MLP from skratch using only Numpy applied to MNIST dataset\n",
        "\n",
        "In order to better undertsand the maths behind Deep Learning algorithms we compute here a **MultiLayer Perceptron**, also called **fully connected neural network**, and its learning algorithm (**stochastic gradient descent**) with only math functions from Numpy and Python code. \n",
        "\n",
        "Our MLP will use a **cross-entropy loss function**. We will first implement it entirely from scratch, using only basic python primitives. Then, we will vectorize the forward and backward passes using NumPy."
      ]
    },
    {
      "cell_type": "markdown",
      "metadata": {
        "id": "oNEQO8wUaGP5"
      },
      "source": [
        "1.   First, we implement a simple network following the characteristics of the image below, including the wieghts.\n",
        "2. We then perform one forward pass\n",
        "3. We update the loss \n",
        "4. And perform one backward pass"
      ]
    },
    {
      "cell_type": "markdown",
      "metadata": {
        "id": "YGg7YDx5bEYY"
      },
      "source": [
        "###The architecture\n",
        "![Capture d’écran 2022-11-20 200342.jpg](data:image/jpeg;base64,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)\n"
      ]
    },
    {
      "cell_type": "markdown",
      "metadata": {
        "id": "lzjR7PhH--vt"
      },
      "source": [
        "Imports"
      ]
    },
    {
      "cell_type": "code",
      "execution_count": null,
      "metadata": {
        "id": "3OjEiPLL4eJs"
      },
      "outputs": [],
      "source": [
        "from math import exp, log, sqrt"
      ]
    },
    {
      "cell_type": "markdown",
      "metadata": {
        "id": "NcswDad8_DA1"
      },
      "source": [
        "Implementation"
      ]
    },
    {
      "cell_type": "code",
      "execution_count": null,
      "metadata": {
        "id": "9FC3-VsU_CbV"
      },
      "outputs": [],
      "source": [
        "#First, we define the variable of our architecture\n",
        "input_size=2\n",
        "hidden_size=3\n",
        "output_size=2\n",
        "\n",
        "#Second, we define the parameters \n",
        "\n",
        "# Weights for 1st linear layer\n",
        "w = [[1.0, 1.0, 1.0], [-1.0, -1.0, -1.0]]\n",
        "# Bias for 1st linear layer\n",
        "b = [0.0, 0.0, 0.0]\n",
        "# Weights for 2nd linear layer\n",
        "v = [[1.0, 1.0], [-1.0, -1.0], [-1.0, -1.0]]\n",
        "# Bias for 2nd linear layer\n",
        "c = [0.0, 0.0]\n",
        "\n",
        "#The target classes\n",
        "target = [1.0,0.0]\n",
        "#Input\n",
        "x = [1.0, -1.0]\n"
      ]
    },
    {
      "cell_type": "markdown",
      "metadata": {
        "id": "9FxWUeCeWFBb"
      },
      "source": [
        "Forward pass"
      ]
    },
    {
      "cell_type": "code",
      "execution_count": null,
      "metadata": {
        "colab": {
          "base_uri": "https://localhost:8080/"
        },
        "id": "MKn--rIxWK8V",
        "outputId": "6e4a81e9-d0e3-487c-e5c5-fa8707605cba"
      },
      "outputs": [
        {
          "output_type": "execute_result",
          "data": {
            "text/plain": [
              "0.6931471805599453"
            ]
          },
          "metadata": {},
          "execution_count": 18
        }
      ],
      "source": [
        "#Then, we define the \n",
        "# Output from 1st linear layer\n",
        "k = [sum(w[j][i] * x[j] for j in range(input_size)) + b[i] for i in range(hidden_size)]\n",
        "# Output from sigmoid activation layer\n",
        "h = [1 / (1 + exp(-k[i])) for i in range(hidden_size)]\n",
        "# Output from 2nd linear layer\n",
        "o = [sum(v[j][i] * h[j] for j in range(hidden_size)) + c[i] for i in range(output_size)]\n",
        "# Output from softmax activation layer\n",
        "denominator = sum(exp(o[i]) for i in range(output_size))\n",
        "y = [exp(o[i]) / denominator for i in range(output_size)]\n",
        "# Cross-entropy loss\n",
        "loss = sum(-target[i] * log(y[i]) for i in range(output_size))\n",
        "\n",
        "# Print loss\n",
        "loss"
      ]
    },
    {
      "cell_type": "markdown",
      "metadata": {
        "id": "tXUgj9twB791"
      },
      "source": [
        "Backward propagation pass"
      ]
    },
    {
      "cell_type": "code",
      "execution_count": null,
      "metadata": {
        "colab": {
          "base_uri": "https://localhost:8080/"
        },
        "id": "Jz7u8TMhB1oX",
        "outputId": "bd3191bc-4805-4a84-9824-1820230f7da2"
      },
      "outputs": [
        {
          "output_type": "stream",
          "name": "stdout",
          "text": [
            "d_y: [-2.0, -0.0]\n",
            "d_o: [-0.5, 0.5]\n",
            "d_v: [[-0.44039853898894116, 0.44039853898894116], [-0.44039853898894116, 0.44039853898894116], [-0.44039853898894116, 0.44039853898894116]]\n",
            "d_c: [-0.5, 0.5]\n",
            "d_h: [0.0, 0.0, 0.0]\n",
            "d_k: [0.0, 0.0, 0.0]\n",
            "d_w: [[0.0, 0.0, 0.0], [-0.0, -0.0, -0.0]]\n",
            "d_b: [0.0, 0.0, 0.0]\n"
          ]
        }
      ],
      "source": [
        "# Derivative of loss with respect to (wrt) the output from the softmax layer\n",
        "d_y = [-target[i] * 1 / y[i] for i in range(output_size)]\n",
        "\n",
        "# Derivative of loss wrt output from 2nd linear layer\n",
        "d_o = [\n",
        "    sum(\n",
        "        d_y[i] * (y[i] * (1 - y[i]) if i == j else -y[i] * y[j])\n",
        "        for i in range(output_size)\n",
        "    )\n",
        "    for j in range(output_size)\n",
        "]\n",
        "# Derivative of loss wrt weights of 2nd linear layer\n",
        "d_v = [[d_o[j] * h[i] for j in range(output_size)] for i in range(hidden_size)]\n",
        "# Derivative of loss wrt bias of 2nd linear layer\n",
        "d_c = [d_o[i] for i in range(output_size)]\n",
        "# Derivative of loss wrt output from sigmoid layer\n",
        "d_h = [sum([d_o[j] * v[i][j] for j in range(output_size)]) for i in range(hidden_size)]\n",
        "# Derivative of loss wrt output from 1st linear layer\n",
        "d_k = [d_h[i] * h[i] * (1 - h[i]) for i in range(hidden_size)]\n",
        "# Derivative of loss wrt weights of 1st linear layer\n",
        "d_w = [[d_k[j] * x[i] for j in range(hidden_size)] for i in range(input_size)]\n",
        "# Derivative of loss wrt bias of 1st linear layer\n",
        "d_b = [d_k[i] for i in range(hidden_size)]\n",
        "\n",
        "# Print derivatives\n",
        "print(f\"d_y: {d_y}\")\n",
        "print(f\"d_o: {d_o}\")\n",
        "print(f\"d_v: {d_v}\")\n",
        "print(f\"d_c: {d_c}\")\n",
        "print(f\"d_h: {d_h}\")\n",
        "print(f\"d_k: {d_k}\")\n",
        "print(f\"d_w: {d_w}\")\n",
        "print(f\"d_b: {d_b}\")"
      ]
    },
    {
      "cell_type": "markdown",
      "metadata": {
        "id": "lVBFLOxWajww"
      },
      "source": [
        "###Training on dataset\n",
        "\n",
        "We now want to see if our perceptron can train itself on a real dataset. First we charge a dataset. Then we develop a corresponding MLP with randomised weights and a training loop to see if the loss drops as training progresses."
      ]
    },
    {
      "cell_type": "code",
      "execution_count": null,
      "metadata": {
        "id": "xBOUrwUO4ajm"
      },
      "outputs": [],
      "source": [
        "# -- assignment 1 --\n",
        "import numpy as np\n",
        "from urllib import request\n",
        "import gzip\n",
        "import pickle\n",
        "import os\n",
        "\n",
        "def load_synth(num_train=60_000, num_val=10_000, seed=0):\n",
        "    \"\"\"\n",
        "    Load some very basic synthetic data that should be easy to classify. Two features, so that we can plot the\n",
        "    decision boundary (which is an ellipse in the feature space).\n",
        "    :param num_train: Number of training instances\n",
        "    :param num_val: Number of test/validation instances\n",
        "    :param num_features: Number of features per instance\n",
        "    :return: Two tuples and an integer: (xtrain, ytrain), (xval, yval), num_cls. The first contains a matrix of training\n",
        "     data with 2 features as a numpy floating point array, and the corresponding classification labels as a numpy\n",
        "     integer array. The second contains the test/validation data in the same format. The last integer contains the\n",
        "     number of classes (this is always 2 for this function).\n",
        "    \"\"\"\n",
        "    np.random.seed(seed)\n",
        "\n",
        "    THRESHOLD = 0.6\n",
        "    quad = np.asarray([[1, -0.05], [1, .4]])\n",
        "\n",
        "    ntotal = num_train + num_val\n",
        "\n",
        "    x = np.random.randn(ntotal, 2)\n",
        "\n",
        "    # compute the quadratic form\n",
        "    q = np.einsum('bf, fk, bk -> b', x, quad, x)\n",
        "    y = (q > THRESHOLD).astype(np.int)\n",
        "\n",
        "    return (x[:num_train, :], y[:num_train]), (x[num_train:, :], y[num_train:]), 2\n",
        "\n",
        "def load_mnist(final=False, flatten=True):\n",
        "    \"\"\"\n",
        "    Load the MNIST data.\n",
        "    :param final: If true, return the canonical test/train split. If false, split some validation data from the training\n",
        "       data and keep the test data hidden.\n",
        "    :param flatten: If true, each instance is flattened into a vector, so that the data is returns as a matrix with 768\n",
        "        columns. If false, the data is returned as a 3-tensor preserving each image as a matrix.\n",
        "    :return: Two tuples and an integer: (xtrain, ytrain), (xval, yval), num_cls. The first contains a matrix of training\n",
        "     data and the corresponding classification labels as a numpy integer array. The second contains the test/validation\n",
        "     data in the same format. The last integer contains the number of classes (this is always 2 for this function).\n",
        "     \"\"\"\n",
        "\n",
        "    if not os.path.isfile('mnist.pkl'):\n",
        "        init()\n",
        "\n",
        "    xtrain, ytrain, xtest, ytest = load()\n",
        "    xtl, xsl = xtrain.shape[0], xtest.shape[0]\n",
        "\n",
        "    if flatten:\n",
        "        xtrain = xtrain.reshape(xtl, -1)\n",
        "        xtest  = xtest.reshape(xsl, -1)\n",
        "\n",
        "    if not final: # return the flattened images\n",
        "        return (xtrain[:-5000], ytrain[:-5000]), (xtrain[-5000:], ytrain[-5000:]), 10\n",
        "\n",
        "    return (xtrain, ytrain), (xtest, ytest), 10\n",
        "\n",
        "# Numpy-only MNIST loader. Courtesy of Hyeonseok Jung\n",
        "# https://github.com/hsjeong5/MNIST-for-Numpy\n",
        "\n",
        "filename = [\n",
        "[\"training_images\",\"train-images-idx3-ubyte.gz\"],\n",
        "[\"test_images\",\"t10k-images-idx3-ubyte.gz\"],\n",
        "[\"training_labels\",\"train-labels-idx1-ubyte.gz\"],\n",
        "[\"test_labels\",\"t10k-labels-idx1-ubyte.gz\"]\n",
        "]\n",
        "\n",
        "def download_mnist():\n",
        "    base_url = \"http://yann.lecun.com/exdb/mnist/\"\n",
        "    for name in filename:\n",
        "        print(\"Downloading \"+name[1]+\"...\")\n",
        "        request.urlretrieve(base_url+name[1], name[1])\n",
        "    print(\"Download complete.\")\n",
        "\n",
        "def save_mnist():\n",
        "    mnist = {}\n",
        "    for name in filename[:2]:\n",
        "        with gzip.open(name[1], 'rb') as f:\n",
        "            mnist[name[0]] = np.frombuffer(f.read(), np.uint8, offset=16).reshape(-1,28*28)\n",
        "    for name in filename[-2:]:\n",
        "        with gzip.open(name[1], 'rb') as f:\n",
        "            mnist[name[0]] = np.frombuffer(f.read(), np.uint8, offset=8)\n",
        "    with open(\"mnist.pkl\", 'wb') as f:\n",
        "        pickle.dump(mnist,f)\n",
        "    print(\"Save complete.\")\n",
        "\n",
        "def init():\n",
        "    download_mnist()\n",
        "    save_mnist()\n",
        "\n",
        "def load():\n",
        "    with open(\"mnist.pkl\",'rb') as f:\n",
        "        mnist = pickle.load(f)\n",
        "    return mnist[\"training_images\"], mnist[\"training_labels\"], mnist[\"test_images\"], mnist[\"test_labels\"]"
      ]
    },
    {
      "cell_type": "code",
      "execution_count": null,
      "metadata": {
        "colab": {
          "base_uri": "https://localhost:8080/"
        },
        "id": "-g5C0tflbMw5",
        "outputId": "b4c40b4a-ade3-49c6-8aeb-15bb36cb21e3"
      },
      "outputs": [
        {
          "output_type": "stream",
          "name": "stderr",
          "text": [
            "/usr/local/lib/python3.7/dist-packages/ipykernel_launcher.py:31: DeprecationWarning: `np.int` is a deprecated alias for the builtin `int`. To silence this warning, use `int` by itself. Doing this will not modify any behavior and is safe. When replacing `np.int`, you may wish to use e.g. `np.int64` or `np.int32` to specify the precision. If you wish to review your current use, check the release note link for additional information.\n",
            "Deprecated in NumPy 1.20; for more details and guidance: https://numpy.org/devdocs/release/1.20.0-notes.html#deprecations\n"
          ]
        },
        {
          "output_type": "execute_result",
          "data": {
            "text/plain": [
              "(array([[ 1.76405235,  0.40015721],\n",
              "        [ 0.97873798,  2.2408932 ],\n",
              "        [ 1.86755799, -0.97727788],\n",
              "        ...,\n",
              "        [-1.48486162,  0.46215981],\n",
              "        [ 1.54902516,  2.53170549],\n",
              "        [-0.03572203,  0.17320019]]),\n",
              " array([1, 1, 1, ..., 1, 1, 0]),\n",
              " array([[ 1.85658976, -1.5049403 ],\n",
              "        [ 0.91501945, -1.24619226],\n",
              "        [-0.65684037,  0.85767918],\n",
              "        ...,\n",
              "        [ 0.47922212, -1.29584025],\n",
              "        [ 1.86307733,  0.27843612],\n",
              "        [ 1.09374555, -0.2099617 ]]),\n",
              " array([1, 0, 0, ..., 0, 1, 1]),\n",
              " 2)"
            ]
          },
          "metadata": {},
          "execution_count": 21
        }
      ],
      "source": [
        "(xtrain, ytrain), (xval, yval), num_cls = load_synth()\n",
        "xtrain, ytrain, xval, yval, num_cls"
      ]
    },
    {
      "cell_type": "markdown",
      "metadata": {
        "id": "SyC8UOTqbuSz"
      },
      "source": [
        "###Implementing a training loop\n",
        "\n",
        "We want to see if the loss drops as training progresses."
      ]
    },
    {
      "cell_type": "code",
      "execution_count": null,
      "metadata": {
        "id": "xbpF8Xt6g-Wu"
      },
      "outputs": [],
      "source": [
        "import pandas as pd\n",
        "from matplotlib import pyplot as plt\n",
        "import seaborn as sb\n",
        "sb.set_style(\"whitegrid\")"
      ]
    },
    {
      "cell_type": "markdown",
      "metadata": {
        "id": "1FT1OQ0nc7Zj"
      },
      "source": [
        "Implementation"
      ]
    },
    {
      "cell_type": "code",
      "execution_count": null,
      "metadata": {
        "id": "NxYsz8YIc2Z7"
      },
      "outputs": [],
      "source": [
        "# Learning rate\n",
        "lr = 0.05\n",
        "epochs = 1\n",
        "\n",
        "# Define size of layers\n",
        "input_size = xtrain.shape[1]\n",
        "hidden_size = 3\n",
        "output_size = num_cls\n",
        "\n",
        "# normaly ditributed initialization of weights\n",
        "w = [[np.random.normal(0,1,1)[0] for j in range(hidden_size)] for i in range(input_size)]\n",
        "b = [0.0 for _ in range(hidden_size)]\n",
        "v = [[np.random.normal(0,1,1)[0] for j in range(output_size)] for i in range(hidden_size)]\n",
        "c = [0.0 for _ in range(output_size)]"
      ]
    },
    {
      "cell_type": "markdown",
      "metadata": {
        "id": "miap3ZlKfzCk"
      },
      "source": [
        "Training loop"
      ]
    },
    {
      "cell_type": "code",
      "execution_count": null,
      "metadata": {
        "id": "YCOyl0U_jLt2"
      },
      "outputs": [],
      "source": [
        "losses = []\n",
        "avg_losses = []\n",
        "\n",
        "def MLP_learning(w, b, v, c, inputs, outputs, learning_rate, epochs):\n",
        "\n",
        "    print(len(inputs))\n",
        "    for l in range(epochs):\n",
        "      for idx in range(len(inputs)):\n",
        "        # let's map the x and the target\n",
        "        x=inputs[idx]\n",
        "        target = [1.0 if outputs[idx] == i else 0.0 for i in range(output_size)]\n",
        "\n",
        "         # Forward pass\n",
        "        k = [sum(w[j][i] * x[j] for j in range(input_size)) + b[i] for i in range(hidden_size)]\n",
        "        h = [1 / (1 + exp(-k[i])) for i in range(hidden_size)]\n",
        "        o = [sum(v[j][i] * h[j] for j in range(hidden_size)) + c[i] for i in range(output_size)]\n",
        "        denominator = sum(exp(o[i]) for i in range(output_size))\n",
        "        y = [exp(o[i]) / denominator for i in range(output_size)]\n",
        "        loss = sum(-target[i] * log(y[i]) for i in range(output_size))\n",
        "        losses.append(loss)\n",
        "\n",
        "        # Backward pass\n",
        "        d_y = [-target[i] * 1 / y[i] for i in range(output_size)]\n",
        "        d_o = [\n",
        "            sum(\n",
        "                d_y[i] * (y[i] * (1 - y[i]) if i == j else -y[i] * y[j])\n",
        "                for i in range(output_size)\n",
        "            )\n",
        "            for j in range(output_size)\n",
        "        ]\n",
        "        d_v = [[d_o[j] * h[i] for j in range(output_size)] for i in range(hidden_size)]\n",
        "        d_c = [d_o[i] for i in range(output_size)]\n",
        "        d_h = [sum([d_o[j] * v[i][j] for j in range(output_size)]) for i in range(hidden_size)]\n",
        "        d_k = [d_h[i] * h[i] * (1 - h[i]) for i in range(hidden_size)]\n",
        "        d_w = [[d_k[j] * x[i] for j in range(hidden_size)] for i in range(input_size)]\n",
        "        d_b = [d_k[i] for i in range(hidden_size)]\n",
        "\n",
        "        # Update weights & biases\n",
        "        w = [[w[i][j] - lr * d_w[i][j] for j in range(hidden_size)] for i in range(input_size)]\n",
        "        b = [b[i] - lr * d_b[i] for i in range(hidden_size)]\n",
        "        v = [[v[i][j] - lr * d_v[i][j] for j in range(output_size)] for i in range(hidden_size)]\n",
        "        c = [c[i] - lr * d_c[i] for i in range(output_size)]\n",
        "\n",
        "      # avg_loss_prog.append(sum(loss_progression) / len(loss_progression))\n",
        "      avg_losses.append(sum(losses)/len(losses))\n",
        "    return losses"
      ]
    },
    {
      "cell_type": "code",
      "execution_count": null,
      "metadata": {
        "colab": {
          "base_uri": "https://localhost:8080/",
          "height": 404
        },
        "id": "km4sJVihnsqO",
        "outputId": "1eb4c32e-cfdb-4c6f-82ae-a5f7893c9001"
      },
      "outputs": [
        {
          "output_type": "stream",
          "name": "stdout",
          "text": [
            "60000\n"
          ]
        },
        {
          "output_type": "execute_result",
          "data": {
            "text/plain": [
              "<seaborn.axisgrid.FacetGrid at 0x7f788cab7350>"
            ]
          },
          "metadata": {},
          "execution_count": 25
        },
        {
          "output_type": "display_data",
          "data": {
            "text/plain": [
              "<Figure size 360x360 with 1 Axes>"
            ],
            "image/png": "[encoded data removed]"
          },
          "metadata": {}
        }
      ],
      "source": [
        "MLP_learning(w, b, v, c, xtrain, ytrain, lr, epochs)\n",
        "\n",
        "losses_df = pd.DataFrame(data={\"Training Loss\": losses, \"Step\": range(len(losses))})\n",
        "sb.relplot(data=losses_df, y=\"Training Loss\", x=\"Step\", kind=\"line\")"
      ]
    },
    {
      "cell_type": "markdown",
      "metadata": {
        "id": "lsyBUKYb2G-1"
      },
      "source": [
        "We can also do it with several epochs :"
      ]
    },
    {
      "cell_type": "code",
      "execution_count": null,
      "metadata": {
        "colab": {
          "base_uri": "https://localhost:8080/",
          "height": 404
        },
        "id": "gqk-Ur9G2Lt9",
        "outputId": "e3100605-8c2f-4b01-f849-4ac94e878993"
      },
      "outputs": [
        {
          "output_type": "stream",
          "name": "stdout",
          "text": [
            "60000\n"
          ]
        },
        {
          "output_type": "execute_result",
          "data": {
            "text/plain": [
              "<seaborn.axisgrid.FacetGrid at 0x7f78856e3e10>"
            ]
          },
          "metadata": {},
          "execution_count": 26
        },
        {
          "output_type": "display_data",
          "data": {
            "text/plain": [
              "<Figure size 360x360 with 1 Axes>"
            ],
            "image/png": "[encoded data removed]"
          },
          "metadata": {}
        }
      ],
      "source": [
        "MLP_learning(w, b, v, c, xtrain, ytrain, lr, 10)\n",
        "\n",
        "losses_df = pd.DataFrame(data={\"Training Loss\": losses, \"Step\": range(len(losses))})\n",
        "sb.relplot(data=losses_df, y=\"Training Loss\", x=\"Step\", kind=\"line\")"
      ]
    },
    {
      "cell_type": "code",
      "execution_count": null,
      "metadata": {
        "colab": {
          "base_uri": "https://localhost:8080/",
          "height": 386
        },
        "id": "SCKL10dG1d3B",
        "outputId": "9d0cead7-6e0d-4b97-d90a-3902dec9e14b"
      },
      "outputs": [
        {
          "output_type": "execute_result",
          "data": {
            "text/plain": [
              "<seaborn.axisgrid.FacetGrid at 0x7f7884c26d10>"
            ]
          },
          "metadata": {},
          "execution_count": 27
        },
        {
          "output_type": "display_data",
          "data": {
            "text/plain": [
              "<Figure size 360x360 with 1 Axes>"
            ],
            "image/png": "[encoded data removed]"
          },
          "metadata": {}
        }
      ],
      "source": [
        "avg_losses_df = pd.DataFrame(data={\"Training Loss\": avg_losses, \"Step\": range(len(avg_losses))})\n",
        "sb.relplot(data=avg_losses_df, y=\"Training Loss\", x=\"Step\", kind=\"line\")"
      ]
    },
    {
      "cell_type": "markdown",
      "metadata": {
        "id": "dG_H1JNi6llT"
      },
      "source": [
        "##Vectorisation\n",
        "\n",
        "Now, we want to vectorise the operations of our neural network. Vectorisation is very important because calculus using matrices are faster to write and faster to compute."
      ]
    },
    {
      "cell_type": "markdown",
      "metadata": {
        "id": "fSY2kddFBA83"
      },
      "source": [
        "Because of the Vectorisation, we can represent our MLP with matrices and thus avoid a draw with hundreds of nodes and thousands of links."
      ]
    },
    {
      "cell_type": "markdown",
      "metadata": {
        "id": "uyUlj6JT_tDO"
      },
      "source": [
        "![schema MLP.jpg](data:image/jpeg;base64,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)"
      ]
    },
    {
      "cell_type": "markdown",
      "metadata": {
        "id": "JMiUt-PA6lh-"
      },
      "source": [
        "###Neural network for MNIST with vectorised operations"
      ]
    },
    {
      "cell_type": "code",
      "execution_count": null,
      "metadata": {
        "id": "dM6vNQJX7RyH"
      },
      "outputs": [],
      "source": [
        "def forward_pass(x, w, b, v, c, target):\n",
        "    k = np.matmul(x, w.swapaxes(-1, -2)) + b\n",
        "    h = 1.0 / (1.0 + np.exp(-k))\n",
        "    o = np.matmul(h, v.swapaxes(-1, -2)) + c\n",
        "    y = np.exp(o) / np.exp(o).sum(-1, keepdims=True)\n",
        "    loss = (np.log(y) * -target).sum(axis=-1).mean()\n",
        "    return k, h, o, y, loss\n",
        "\n",
        "\n",
        "def backward_pass(x, y, target, h, v):\n",
        "    d_y = -1.0 / y * target\n",
        "    d_o = ((np.expand_dims(y, axis=-1) * np.eye(y.shape[-1])\n",
        "     - np.matmul(np.expand_dims(y, axis=-1), np.expand_dims(y, axis=-2))\n",
        "        )\n",
        "        * np.expand_dims(d_y, axis=-1)\n",
        "    ).sum(axis=1)\n",
        "    d_v = np.matmul(np.expand_dims(d_o, axis=-1), np.expand_dims(h, axis=-2))\n",
        "    d_c = 1.0 * d_o\n",
        "    d_h = np.matmul(d_o, v)\n",
        "    d_k = d_h * h * (1.0 - h)\n",
        "    d_w = np.matmul(np.expand_dims(d_k, axis=-1), np.expand_dims(x, axis=-2))\n",
        "    d_b = 1 * d_k\n",
        "    return d_y, d_o, d_v, d_c, d_h, d_k, d_w, d_b\n",
        "\n",
        "\n",
        "def training_loop(\n",
        "    lr=0.1, hidden_size=300, batch_size=10, epochs=1, enable_logs=True, load_final=False, shuffle=True\n",
        "):\n",
        "    # Load data\n",
        "    (xtrain, ytrain), (xval, yval), num_cls = load_mnist(final=load_final)\n",
        "    # Normalize data\n",
        "    xtrain = xtrain / 255.0\n",
        "    xval = xval / 255.0\n",
        "\n",
        "    # Define size of layers\n",
        "    input_size = xtrain.shape[1]\n",
        "    output_size = num_cls\n",
        "\n",
        "    # Xavier initialization of weights\n",
        "    w = np.random.uniform(\n",
        "        -1 / sqrt(input_size), 1 / sqrt(input_size), size=(hidden_size, input_size)\n",
        "    )\n",
        "    b = np.zeros(shape=(hidden_size))\n",
        "    v = np.random.uniform(\n",
        "        -1 / sqrt(input_size), 1 / sqrt(input_size), size=(output_size, hidden_size)\n",
        "    )\n",
        "    c = np.zeros(shape=(output_size))\n",
        "    \n",
        "    train_loss = []\n",
        "    val_loss = []\n",
        "    train_acc = []\n",
        "    val_acc = []\n",
        "    batch_loss = []\n",
        "\n",
        "    for epoch in range(epochs):\n",
        "        if shuffle:\n",
        "            idxs = np.array(range(xtrain.shape[0]))\n",
        "            np.random.shuffle(idxs)\n",
        "            xtrain = xtrain[idxs]\n",
        "            ytrain = ytrain[idxs]\n",
        "        for idx in range(xtrain.shape[0] // batch_size):\n",
        "            # Transform input and target values\n",
        "            x = xtrain[idx * batch_size : idx * batch_size + batch_size]\n",
        "            target = np.eye(output_size)[\n",
        "                ytrain[idx * batch_size : idx * batch_size + batch_size]\n",
        "            ]\n",
        "\n",
        "            # Forward pass\n",
        "            _, h, _, y, loss = forward_pass(x, w, b, v, c, target)\n",
        "            batch_loss.append(loss)\n",
        "\n",
        "            # Backward pass\n",
        "            _, _, d_v, d_c, _, _, d_w, d_b = backward_pass(x, y, target, h, v)\n",
        "\n",
        "            # Update weights & biases\n",
        "            w = w - lr * d_w.mean(axis=0)\n",
        "            b = b - lr * d_b.mean(axis=0)\n",
        "            v = v - lr * d_v.mean(axis=0)\n",
        "            c = c - lr * d_c.mean(axis=0)\n",
        "\n",
        "        # Store loss & accuracy on training & validation set\n",
        "        target = np.eye(output_size)[ytrain]\n",
        "        _, _, _, y, tloss = forward_pass(xtrain, w, b, v, c, target)\n",
        "        tacc = (y * target).sum(-1).mean()\n",
        "        target = np.eye(output_size)[yval]\n",
        "        _, _, _, y, vloss = forward_pass(xval, w, b, v, c, target)\n",
        "        vacc = (y * target).sum(-1).mean()\n",
        "        train_loss.append(tloss)\n",
        "        val_loss.append(vloss)\n",
        "        train_acc.append(tacc)\n",
        "        val_acc.append(vacc)\n",
        "\n",
        "        # Print average loss on validation set\n",
        "        if enable_logs:\n",
        "            print(f\"epoch {epoch}: {vloss.mean()}\")\n",
        "    \n",
        "    return train_loss, val_loss, batch_loss, train_acc, val_acc\n"
      ]
    },
    {
      "cell_type": "code",
      "execution_count": null,
      "metadata": {
        "colab": {
          "base_uri": "https://localhost:8080/"
        },
        "id": "1G8bjfgH8A72",
        "outputId": "4eb3bf25-dce7-48b4-a7fe-76f5f8df6840"
      },
      "outputs": [
        {
          "output_type": "stream",
          "name": "stdout",
          "text": [
            "epoch 0: 0.2506069945804488\n"
          ]
        }
      ],
      "source": [
        "training_loop();"
      ]
    },
    {
      "cell_type": "markdown",
      "metadata": {
        "id": "AbynB5Xi6le_"
      },
      "source": [
        "##Analysis\n",
        "We now want to analyse our network results on MNIST and plot the learning curve (or loss curve)."
      ]
    },
    {
      "cell_type": "code",
      "execution_count": null,
      "metadata": {
        "colab": {
          "base_uri": "https://localhost:8080/",
          "height": 296
        },
        "id": "o9id5PIL-MDg",
        "outputId": "2c29dc23-22e0-44b2-dd98-df6fa6995248"
      },
      "outputs": [
        {
          "output_type": "stream",
          "name": "stdout",
          "text": [
            "epoch 0: 0.2145035462394235\n"
          ]
        },
        {
          "output_type": "display_data",
          "data": {
            "text/plain": [
              "<Figure size 432x288 with 1 Axes>"
            ],
            "image/png": "[encoded data removed]"
          },
          "metadata": {}
        }
      ],
      "source": [
        "_, _, batch_loss, _, _ = training_loop(lr=0.1, batch_size=10)\n",
        "\n",
        "index = pd.Series(data=range(len(batch_loss)), name=\"Timestep\")\n",
        "batch_loss_df = pd.DataFrame(data=batch_loss, columns=[\"Batch Loss\"], index=index)\n",
        "sb.lineplot(data=batch_loss_df, linewidth=.5);"
      ]
    },
    {
      "cell_type": "markdown",
      "metadata": {
        "id": "Ut4EHRuk6lcQ"
      },
      "source": [
        "We compare the training loss per epoch to the validation loss per epoch."
      ]
    },
    {
      "cell_type": "code",
      "execution_count": null,
      "metadata": {
        "colab": {
          "base_uri": "https://localhost:8080/",
          "height": 279
        },
        "id": "4XDFbafr-zl2",
        "outputId": "e49e2764-efe3-4af4-d20f-5f65debd9a0d"
      },
      "outputs": [
        {
          "output_type": "display_data",
          "data": {
            "text/plain": [
              "<Figure size 432x288 with 1 Axes>"
            ],
            "image/png": "[encoded data removed]"
          },
          "metadata": {}
        }
      ],
      "source": [
        "train_loss, val_loss, _, _, _ = training_loop(enable_logs=False, epochs=10, lr=0.1, batch_size=10)\n",
        "\n",
        "index = pd.Series(data=range(len(train_loss)), name=\"Epoch\")\n",
        "loss_df = pd.DataFrame(\n",
        "    data={\"Training Loss\": train_loss, \"Validation Loss\": val_loss},\n",
        "    index=index,\n",
        ")\n",
        "sb.lineplot(data=loss_df);"
      ]
    },
    {
      "cell_type": "markdown",
      "metadata": {
        "id": "jnURroyuJiEI"
      },
      "source": [
        "We can see that the validation loss is faster than the training loss but, at the end, the training loss is less than the validation one. "
      ]
    },
    {
      "cell_type": "markdown",
      "metadata": {
        "id": "kWsUGQsq-1d3"
      },
      "source": [
        "We train the neural network from a random initialization multiple times (at least 3) and plot an average and a standard deviation of the objective value in each iteration. What does this tell you?"
      ]
    },
    {
      "cell_type": "code",
      "execution_count": null,
      "metadata": {
        "id": "9ENcTXtC-5Zq"
      },
      "outputs": [],
      "source": [
        "total_train_loss = []\n",
        "total_val_loss = []\n",
        "total_train_acc = []\n",
        "total_val_acc = []\n",
        "epochs = []\n",
        "\n",
        "for _ in range(10):\n",
        "    train_loss, val_loss, _, train_acc, val_acc = training_loop(enable_logs=False, epochs=5, lr=0.1, batch_size=10)\n",
        "    total_train_loss += train_loss\n",
        "    total_val_loss += val_loss\n",
        "    total_train_acc += train_acc\n",
        "    total_val_acc += val_acc\n",
        "    epochs += range(len(train_loss))\n",
        "\n",
        "train_df = pd.DataFrame(data={\"Loss\": total_train_loss, \"Accuracy\": total_train_acc, \"Epoch\": epochs})\n",
        "train_df[\"Type\"] = \"Training\"\n",
        "val_df = pd.DataFrame(data={\"Loss\": total_val_loss, \"Accuracy\": total_val_acc, \"Epoch\": epochs})\n",
        "val_df[\"Type\"] = \"Validation\"\n",
        "\n",
        "total_loss_df = pd.concat([train_df, val_df])\n",
        "sb.relplot(data=total_loss_df, x=\"Epoch\", y=\"Loss\", hue=\"Type\", kind=\"line\", errorbar=\"sd\", linewidth=1.)\n",
        "sb.relplot(data=total_loss_df, x=\"Epoch\", y=\"Accuracy\", hue=\"Type\", kind=\"line\", errorbar=\"sd\", linewidth=1.);"
      ]
    },
    {
      "cell_type": "markdown",
      "metadata": {
        "id": "1k8Jnye16lYi"
      },
      "source": [
        "Run the SGD with different learning rates. Analyze how the learning rate value influences the final performance."
      ]
    },
    {
      "cell_type": "code",
      "execution_count": null,
      "metadata": {
        "id": "FiOFS5Ac-930"
      },
      "outputs": [],
      "source": [
        "lr_configs = [0.01, 0.1, 1.0]\n",
        "batch_configs = [1, 10, 100]\n",
        "\n",
        "configs_df = None\n",
        "\n",
        "for bc in batch_configs:\n",
        "    for lc in lr_configs:\n",
        "        _, val_loss, _, _, val_acc = training_loop(\n",
        "            lr=lc, batch_size=bc, enable_logs=False, epochs=5\n",
        "        )\n",
        "        partial_df = train_df = pd.DataFrame(\n",
        "            data={\n",
        "                \"Loss\": val_loss,\n",
        "                \"Accuracy\": val_acc,\n",
        "                \"Epoch\": range(len(val_loss)),\n",
        "            }\n",
        "        )\n",
        "        partial_df[\"Configuration\"] = f\"batch_{bc}__lr_{lc}\"\n",
        "        if configs_df is None:\n",
        "            configs_df = partial_df\n",
        "        else:\n",
        "            configs_df = pd.concat([configs_df, partial_df])\n",
        "\n",
        "configs_df = configs_df.reset_index()\n",
        "sb.relplot(data=configs_df, x=\"Epoch\", y=\"Loss\", hue=\"Configuration\", kind=\"line\")\n",
        "sb.relplot(data=configs_df, x=\"Epoch\", y=\"Accuracy\", hue=\"Configuration\", kind=\"line\")\n",
        "configs_df[[\"Configuration\", \"Loss\"]].groupby(\"Configuration\").min()"
      ]
    },
    {
      "cell_type": "markdown",
      "metadata": {
        "id": "tehPMvYD6lVB"
      },
      "source": [
        "Based on these experiments, choose a final set of hyperparameters. Then load the full training data with the canonical test set, train your model with the chosen hyperparameters and report the accuracy you get."
      ]
    },
    {
      "cell_type": "code",
      "execution_count": null,
      "metadata": {
        "id": "oFB7l4cw_EWe"
      },
      "outputs": [],
      "source": [
        "train_loss, val_loss, _, train_acc, val_acc = training_loop(\n",
        "    enable_logs=False, epochs=5, batch_size=1, lr=0.1, load_final=True\n",
        ")\n",
        "\n",
        "epochs = range(len(train_loss))\n",
        "train_df = pd.DataFrame(data={\"Loss\": train_loss, \"Accuracy\": train_acc, \"Epoch\": epochs})\n",
        "train_df[\"Type\"] = \"Training\"\n",
        "val_df = pd.DataFrame(data={\"Loss\": val_loss, \"Accuracy\": val_acc, \"Epoch\": epochs})\n",
        "val_df[\"Type\"] = \"Test\"\n",
        "\n",
        "final_df = pd.concat([train_df, val_df])\n",
        "print(f\"Final accuracy: {val_acc[-1]}\")\n",
        "sb.relplot(data=final_df, x=\"Epoch\", y=\"Loss\", hue=\"Type\", kind=\"line\")\n",
        "sb.relplot(data=final_df, x=\"Epoch\", y=\"Accuracy\", hue=\"Type\", kind=\"line\");"
      ]
    }
  ],
  "metadata": {
    "colab": {
      "provenance": []
    },
    "kernelspec": {
      "display_name": "Python 3",
      "name": "python3"
    },
    "language_info": {
      "name": "python"
    },
    "accelerator": "GPU",
    "gpuClass": "standard"
  },
  "nbformat": 4,
  "nbformat_minor": 0
}